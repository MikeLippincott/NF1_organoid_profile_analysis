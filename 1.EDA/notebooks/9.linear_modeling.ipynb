{
 "cells": [
  {
   "cell_type": "code",
   "execution_count": 1,
   "id": "64f66f04",
   "metadata": {},
   "outputs": [],
   "source": [
    "import pathlib\n",
    "import warnings\n",
    "\n",
    "import pandas as pd\n",
    "import statsmodels.formula.api as smf\n",
    "from statsmodels.stats.multitest import multipletests\n",
    "\n",
    "warnings.filterwarnings(\"ignore\")  # Ignore all warnings\n",
    "warnings.simplefilter(\"ignore\")  # Additional suppression method\n",
    "\n",
    "try:\n",
    "    cfg = get_ipython().config\n",
    "    in_notebook = True\n",
    "except NameError:\n",
    "    in_notebook = False\n",
    "if in_notebook:\n",
    "    from tqdm.notebook import tqdm\n",
    "else:\n",
    "    from tqdm import tqdm\n",
    "# Get the current working directory\n",
    "cwd = pathlib.Path.cwd()\n",
    "\n",
    "if (cwd / \".git\").is_dir():\n",
    "    root_dir = cwd\n",
    "\n",
    "else:\n",
    "    root_dir = None\n",
    "    for parent in cwd.parents:\n",
    "        if (parent / \".git\").is_dir():\n",
    "            root_dir = parent\n",
    "            break\n",
    "\n",
    "# Check if a Git root directory was found\n",
    "if root_dir is None:\n",
    "    raise FileNotFoundError(\"No Git root directory found.\")"
   ]
  },
  {
   "cell_type": "code",
   "execution_count": 2,
   "id": "78772217",
   "metadata": {},
   "outputs": [],
   "source": [
    "profile_dict = {\n",
    "    \"organoid_fs\": {\n",
    "        \"input_profile_path\": pathlib.Path(\n",
    "            root_dir, \"data/all_patient_profiles/organoid_fs_profiles.parquet\"\n",
    "        ),\n",
    "        \"output_profile_path\": pathlib.Path(\n",
    "            root_dir, \"5.EDA/results/linear_modeling/organoid_fs.parquet\"\n",
    "        ),\n",
    "        \"metadata_columns\": [\n",
    "            \"patient\",\n",
    "            \"object_id\",\n",
    "            \"unit\",\n",
    "            \"dose\",\n",
    "            \"treatment\",\n",
    "            \"Target\",\n",
    "            \"Class\",\n",
    "            \"image_set\",\n",
    "            \"Well\",\n",
    "            \"Therapeutic_Categories\",\n",
    "            \"single_cell_count\",\n",
    "        ],\n",
    "    },\n",
    "    \"single_cell_fs\": {\n",
    "        \"input_profile_path\": pathlib.Path(\n",
    "            root_dir, \"data/all_patient_profiles/sc_fs_profiles.parquet\"\n",
    "        ),\n",
    "        \"output_profile_path\": pathlib.Path(\n",
    "            root_dir, \"5.EDA/results/linear_modeling/sc_fs.parquet\"\n",
    "        ),\n",
    "        \"metadata_columns\": [\n",
    "            \"patient\",\n",
    "            \"object_id\",\n",
    "            \"unit\",\n",
    "            \"dose\",\n",
    "            \"treatment\",\n",
    "            \"Target\",\n",
    "            \"Class\",\n",
    "            \"image_set\",\n",
    "            \"Well\",\n",
    "            \"Therapeutic_Categories\",\n",
    "            \"parent_organoid\",\n",
    "        ],\n",
    "    },\n",
    "}"
   ]
  },
  {
   "cell_type": "markdown",
   "id": "2d33968b",
   "metadata": {},
   "source": [
    "## Linear modeling \n",
    "\n",
    "We want to predict each feature given some information about the organoid per patient. We will use linear regression to do this.\n",
    "$y = X_0 * \\beta_0 + X_1 * \\beta_1 + ... + X_n * \\beta_n + \\epsilon$   \n",
    "\n",
    "Where:  \n",
    "$y$ = feature to predict   \n",
    "$\\beta_0$ = Intercept   \n",
    "$X_1$ = The treatment (e.g. control, drug)   \n",
    "$\\beta_1$ = The coefficient for the treatment   \n",
    "$\\epsilon$ = The error term   \n",
    "\n",
    "For each model(feature), we get the following statistics:\n",
    "- **R-squared**: Proportion of variance explained by the model.\n",
    "- **p-value**: Significance of the model.\n",
    "- **F-statistic**: Overall significance of the model.\n",
    "- **Coefficients**: Effect size of each predictor."
   ]
  },
  {
   "cell_type": "code",
   "execution_count": 3,
   "id": "b7e84d69",
   "metadata": {},
   "outputs": [
    {
     "data": {
      "application/vnd.jupyter.widget-view+json": {
       "model_id": "361dc915aa5f4bf5acab1802223d22ba",
       "version_major": 2,
       "version_minor": 0
      },
      "text/plain": [
       "Loading profiles:   0%|          | 0/2 [00:00<?, ?it/s]"
      ]
     },
     "metadata": {},
     "output_type": "display_data"
    },
    {
     "data": {
      "application/vnd.jupyter.widget-view+json": {
       "model_id": "b2337475fca04ed5b44b68f18596b3ad",
       "version_major": 2,
       "version_minor": 0
      },
      "text/plain": [
       "Processing patients:   0%|          | 0/8 [00:00<?, ?patient/s]"
      ]
     },
     "metadata": {},
     "output_type": "display_data"
    },
    {
     "data": {
      "application/vnd.jupyter.widget-view+json": {
       "model_id": "610e89431fec4c9baedc60a7f8726961",
       "version_major": 2,
       "version_minor": 0
      },
      "text/plain": [
       "Processing treatment combinations:   0%|          | 0/16 [00:00<?, ?combo/s]"
      ]
     },
     "metadata": {},
     "output_type": "display_data"
    },
    {
     "data": {
      "application/vnd.jupyter.widget-view+json": {
       "model_id": "d40b23293b6240d3ab98edf7b6b27cf1",
       "version_major": 2,
       "version_minor": 0
      },
      "text/plain": [
       "Processing treatment combinations:   0%|          | 0/15 [00:00<?, ?combo/s]"
      ]
     },
     "metadata": {},
     "output_type": "display_data"
    },
    {
     "data": {
      "application/vnd.jupyter.widget-view+json": {
       "model_id": "4ed7e670e31d4e9b89fd7054098a2e2e",
       "version_major": 2,
       "version_minor": 0
      },
      "text/plain": [
       "Processing treatment combinations:   0%|          | 0/16 [00:00<?, ?combo/s]"
      ]
     },
     "metadata": {},
     "output_type": "display_data"
    },
    {
     "data": {
      "application/vnd.jupyter.widget-view+json": {
       "model_id": "7eb333857b2d43298d7d28f3bd010e81",
       "version_major": 2,
       "version_minor": 0
      },
      "text/plain": [
       "Processing treatment combinations:   0%|          | 0/16 [00:00<?, ?combo/s]"
      ]
     },
     "metadata": {},
     "output_type": "display_data"
    },
    {
     "data": {
      "application/vnd.jupyter.widget-view+json": {
       "model_id": "1534bc617d594b9489aab62ebd55b882",
       "version_major": 2,
       "version_minor": 0
      },
      "text/plain": [
       "Processing treatment combinations:   0%|          | 0/16 [00:00<?, ?combo/s]"
      ]
     },
     "metadata": {},
     "output_type": "display_data"
    },
    {
     "data": {
      "application/vnd.jupyter.widget-view+json": {
       "model_id": "97e8a7d028c7448d9a4399ee39fba41b",
       "version_major": 2,
       "version_minor": 0
      },
      "text/plain": [
       "Processing treatment combinations:   0%|          | 0/21 [00:00<?, ?combo/s]"
      ]
     },
     "metadata": {},
     "output_type": "display_data"
    },
    {
     "data": {
      "application/vnd.jupyter.widget-view+json": {
       "model_id": "5948522d323141ac845d1769068ff0e6",
       "version_major": 2,
       "version_minor": 0
      },
      "text/plain": [
       "Processing treatment combinations:   0%|          | 0/16 [00:00<?, ?combo/s]"
      ]
     },
     "metadata": {},
     "output_type": "display_data"
    },
    {
     "data": {
      "application/vnd.jupyter.widget-view+json": {
       "model_id": "17a8d4081b2d41a6825a42d22f70d9ff",
       "version_major": 2,
       "version_minor": 0
      },
      "text/plain": [
       "Processing treatment combinations:   0%|          | 0/16 [00:00<?, ?combo/s]"
      ]
     },
     "metadata": {},
     "output_type": "display_data"
    },
    {
     "data": {
      "application/vnd.jupyter.widget-view+json": {
       "model_id": "559de8515f594d2fb255ab0eb36200f7",
       "version_major": 2,
       "version_minor": 0
      },
      "text/plain": [
       "Processing patients:   0%|          | 0/8 [00:00<?, ?patient/s]"
      ]
     },
     "metadata": {},
     "output_type": "display_data"
    },
    {
     "data": {
      "application/vnd.jupyter.widget-view+json": {
       "model_id": "4c225e02801b48c29f4519bf10df002e",
       "version_major": 2,
       "version_minor": 0
      },
      "text/plain": [
       "Processing treatment combinations:   0%|          | 0/16 [00:00<?, ?combo/s]"
      ]
     },
     "metadata": {},
     "output_type": "display_data"
    },
    {
     "data": {
      "application/vnd.jupyter.widget-view+json": {
       "model_id": "5225e41b9a1647baaaa490c266bc8766",
       "version_major": 2,
       "version_minor": 0
      },
      "text/plain": [
       "Processing treatment combinations:   0%|          | 0/15 [00:00<?, ?combo/s]"
      ]
     },
     "metadata": {},
     "output_type": "display_data"
    },
    {
     "data": {
      "application/vnd.jupyter.widget-view+json": {
       "model_id": "8375bf37e130445b9ac1b1674455cdd0",
       "version_major": 2,
       "version_minor": 0
      },
      "text/plain": [
       "Processing treatment combinations:   0%|          | 0/15 [00:00<?, ?combo/s]"
      ]
     },
     "metadata": {},
     "output_type": "display_data"
    },
    {
     "data": {
      "application/vnd.jupyter.widget-view+json": {
       "model_id": "3b5225f84a264557a852d8b2ebcc3c5c",
       "version_major": 2,
       "version_minor": 0
      },
      "text/plain": [
       "Processing treatment combinations:   0%|          | 0/16 [00:00<?, ?combo/s]"
      ]
     },
     "metadata": {},
     "output_type": "display_data"
    },
    {
     "data": {
      "application/vnd.jupyter.widget-view+json": {
       "model_id": "e35a2ccab8f247ecac1ad8062b8dd7a2",
       "version_major": 2,
       "version_minor": 0
      },
      "text/plain": [
       "Processing treatment combinations:   0%|          | 0/16 [00:00<?, ?combo/s]"
      ]
     },
     "metadata": {},
     "output_type": "display_data"
    },
    {
     "data": {
      "application/vnd.jupyter.widget-view+json": {
       "model_id": "c5e52f3064ec4aa799e690693dce0562",
       "version_major": 2,
       "version_minor": 0
      },
      "text/plain": [
       "Processing treatment combinations:   0%|          | 0/21 [00:00<?, ?combo/s]"
      ]
     },
     "metadata": {},
     "output_type": "display_data"
    },
    {
     "data": {
      "application/vnd.jupyter.widget-view+json": {
       "model_id": "74b62817cd26443f8a8815b322a2da74",
       "version_major": 2,
       "version_minor": 0
      },
      "text/plain": [
       "Processing treatment combinations:   0%|          | 0/16 [00:00<?, ?combo/s]"
      ]
     },
     "metadata": {},
     "output_type": "display_data"
    },
    {
     "data": {
      "application/vnd.jupyter.widget-view+json": {
       "model_id": "94ab90380c8245518eee3e9ff16c0b1d",
       "version_major": 2,
       "version_minor": 0
      },
      "text/plain": [
       "Processing treatment combinations:   0%|          | 0/16 [00:00<?, ?combo/s]"
      ]
     },
     "metadata": {},
     "output_type": "display_data"
    }
   ],
   "source": [
    "for profile in tqdm(profile_dict.keys(), desc=\"Loading profiles\"):\n",
    "    # set the output dictionary for linear modeling results\n",
    "    # per profile\n",
    "    linear_modeling_results_dict = {\n",
    "        \"patient\": [],\n",
    "        \"treatment\": [],\n",
    "        \"feature\": [],\n",
    "        \"rsquared\": [],\n",
    "        \"rsquared_adj\": [],\n",
    "        \"fvalue\": [],\n",
    "        \"pvalue\": [],\n",
    "        \"coefficient\": [],\n",
    "        \"intercept\": [],\n",
    "    }\n",
    "    metadata_columns = profile_dict[profile][\"metadata_columns\"]\n",
    "    df = pd.read_parquet(profile_dict[profile][\"input_profile_path\"])\n",
    "    # rename feature columns as the \".\" dod not play nice with the formula\n",
    "    for col in df.columns:\n",
    "        new_col = col.replace(\n",
    "            \".\",\n",
    "            \"\",  # we replace the \".\" with an empty string because it causes issues in the formula\n",
    "            # the linear model interprets the \".\" as an operator and not as part of the column name\n",
    "        )  # Replace . with empty string for compatibility in formula\n",
    "        df.rename(columns={col: new_col}, inplace=True)\n",
    "\n",
    "    for patient in tqdm(\n",
    "        df[\"patient\"].unique(), desc=\"Processing patients\", unit=\"patient\", leave=False\n",
    "    ):\n",
    "        df_patient = df.loc[df[\"patient\"] == patient]\n",
    "\n",
    "        # Filter for specific treatments\n",
    "        df_patient_trt = df_patient.loc[df_patient[\"treatment\"].isin([\"DMSO\"])]\n",
    "        combo_list = [\n",
    "            (\"DMSO\", i) for i in df_patient[\"treatment\"].unique() if i != \"DMSO\"\n",
    "        ]\n",
    "        for combo in tqdm(\n",
    "            combo_list,\n",
    "            desc=\"Processing treatment combinations\",\n",
    "            unit=\"combo\",\n",
    "            leave=False,\n",
    "        ):\n",
    "            df_patient_trt = df_patient.loc[df_patient[\"treatment\"].isin(combo)]\n",
    "            # order the treatment column to ensure DMSO is first\n",
    "            df_patient_trt[\"treatment\"] = pd.Categorical(\n",
    "                df_patient_trt[\"treatment\"],\n",
    "                categories=[\"DMSO\"]\n",
    "                + [\n",
    "                    other_treatment\n",
    "                    for other_treatment in df_patient[\"treatment\"].unique()\n",
    "                    if other_treatment != \"DMSO\"\n",
    "                ],\n",
    "            )\n",
    "            for col in df_patient_trt.columns:\n",
    "                if col not in metadata_columns:\n",
    "                    # Prepare the formula for the linear model\n",
    "                    formula = f\"{col} ~ C(treatment)\"\n",
    "                    # Import statsmodels and run the linear model\n",
    "                    model = smf.ols(formula=formula, data=df_patient_trt)\n",
    "                    results = model.fit()\n",
    "\n",
    "                    linear_modeling_results_dict[\"patient\"].append(patient)\n",
    "                    linear_modeling_results_dict[\"treatment\"].append(combo[1])\n",
    "                    linear_modeling_results_dict[\"feature\"].append(col)\n",
    "                    linear_modeling_results_dict[\"rsquared\"].append(results.rsquared)\n",
    "                    linear_modeling_results_dict[\"rsquared_adj\"].append(\n",
    "                        results.rsquared_adj\n",
    "                    )\n",
    "                    linear_modeling_results_dict[\"fvalue\"].append(results.fvalue)\n",
    "                    linear_modeling_results_dict[\"pvalue\"].append(\n",
    "                        results.pvalues[f\"C(treatment)[T.{combo[1]}]\"]\n",
    "                    )\n",
    "                    linear_modeling_results_dict[\"coefficient\"].append(\n",
    "                        results.params[f\"C(treatment)[T.{combo[1]}]\"].item()\n",
    "                    )\n",
    "                    linear_modeling_results_dict[\"intercept\"].append(\n",
    "                        results.params[\"Intercept\"].item()\n",
    "                    )\n",
    "    linear_modeling_results_df = pd.DataFrame(linear_modeling_results_dict)\n",
    "    # split the feature column into multiple columns\n",
    "    linear_modeling_results_df[\"feature\"].str.split(\"_\", expand=True)\n",
    "    linear_modeling_results_df[\n",
    "        [\"Feature_type\", \"Compartment\", \"Channel\", \"Measurement\", \"Extra_info\"]\n",
    "    ] = linear_modeling_results_df[\"feature\"].str.split(\"_\", expand=True)\n",
    "\n",
    "    # if feature type is area shape then make the measurement the channel and\n",
    "    # set the channel to None\n",
    "    # this because area size shape features are not channel specific\n",
    "    linear_modeling_results_df.loc[\n",
    "        linear_modeling_results_df[\"Feature_type\"] == \"AreaSizeShape\", \"Measurement\"\n",
    "    ] = linear_modeling_results_df[\"Channel\"]\n",
    "    linear_modeling_results_df.loc[\n",
    "        linear_modeling_results_df[\"Feature_type\"] == \"AreaSizeShape\", \"Channel\"\n",
    "    ] = None\n",
    "    # set compartment to None if is adjacent\n",
    "    # this is because adjacent features are not compartment specific\n",
    "    linear_modeling_results_df.loc[\n",
    "        linear_modeling_results_df[\"Compartment\"] == \"adjacent\", \"Compartment\"\n",
    "    ] = None\n",
    "\n",
    "    # run FDR on the p-values\n",
    "    pvals = linear_modeling_results_df[\"pvalue\"].values\n",
    "    _, pvals_fdr, _, _ = multipletests(pvals, method=\"fdr_bh\")\n",
    "    linear_modeling_results_df[\"pvalue_fdr\"] = pvals_fdr\n",
    "    # Save the updated DataFrame with FDR p-values\n",
    "    linear_modeling_results_df.to_parquet(\n",
    "        profile_dict[profile][\"output_profile_path\"], index=False\n",
    "    )\n",
    "    profile_dict[profile][\"output_profile_path\"].parent.mkdir(\n",
    "        parents=True, exist_ok=True\n",
    "    )\n",
    "    linear_modeling_results_df.to_parquet(\n",
    "        profile_dict[profile][\"output_profile_path\"], index=False\n",
    "    )"
   ]
  }
 ],
 "metadata": {
  "kernelspec": {
   "display_name": "GFF_analysis",
   "language": "python",
   "name": "python3"
  },
  "language_info": {
   "codemirror_mode": {
    "name": "ipython",
    "version": 3
   },
   "file_extension": ".py",
   "mimetype": "text/x-python",
   "name": "python",
   "nbconvert_exporter": "python",
   "pygments_lexer": "ipython3",
   "version": "3.12.11"
  }
 },
 "nbformat": 4,
 "nbformat_minor": 5
}
