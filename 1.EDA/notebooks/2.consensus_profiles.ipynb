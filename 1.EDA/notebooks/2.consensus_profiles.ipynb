{
 "cells": [
  {
   "cell_type": "code",
   "execution_count": 1,
   "id": "5f3acf55",
   "metadata": {
    "vscode": {
     "languageId": "r"
    }
   },
   "outputs": [],
   "source": [
    "list_of_packages <- c(\n",
    "       \"ggplot2\",\n",
    "       \"dplyr\",\n",
    "       \"tidyr\",\n",
    "       \"ComplexHeatmap\",\n",
    "       \"tibble\",\n",
    "       \"RColorBrewer\",\n",
    "       \"scales\",\n",
    "       \"circlize\",\n",
    "       \"argparse\"\n",
    ")\n",
    "if (!requireNamespace(\"BiocManager\", quietly=TRUE))\n",
    "    install.packages(\"BiocManager\")\n",
    "\n",
    "if (!requireNamespace(\"ComplexHeatmap\", quietly = TRUE)) {\n",
    "    BiocManager::install(\"ComplexHeatmap\")\n",
    "}\n",
    "for (package in list_of_packages) {\n",
    "    suppressPackageStartupMessages(\n",
    "        suppressWarnings(\n",
    "            library(\n",
    "                package,\n",
    "                character.only = TRUE,\n",
    "                quietly = TRUE,\n",
    "                warn.conflicts = FALSE\n",
    "            )\n",
    "        )\n",
    "    )\n",
    "}"
   ]
  },
  {
   "cell_type": "code",
   "execution_count": 2,
   "id": "965532df",
   "metadata": {
    "vscode": {
     "languageId": "r"
    }
   },
   "outputs": [],
   "source": [
    "# set custom colors for each MOA\n",
    "custom_MOA_palette <- c(\n",
    "    'BRD4 inhibitor' = \"#93152A\",  # Dark red\n",
    "    'receptor tyrosine kinase inhibitor' = \"#BA3924\",  # Red\n",
    "    'tyrosine kinase inhibitor' = \"#D08543\",  # Orange\n",
    "    'MEK1/2 inhibitor' = \"#A1961A\",  # Yellow-green/olive\n",
    "\n",
    "    'IGF-1R inhibitor' = \"#9FC62A\",  # Yellow-green\n",
    "    'mTOR inhibitor' = \"#1FAD23\",  # Green\n",
    "    'PI3K inhibitor' = \"#32D06A\",  # Light green\n",
    "    'PI3K and HDAC inhibitor' = \"#15937C\",  # Teal/dark green\n",
    "    'HDAC inhibitor' = \"#24A5BA\",  # Light blue/cyan\n",
    "\n",
    "    'Apoptosis induction' = \"#438CD0\",  # Medium blue\n",
    "    'DNA binding' = \"#1A24A1\",  # Dark blue\n",
    "    'HSP90 inhibitor' = \"#532AC6\",  # Blue-purple\n",
    "\n",
    "    'histamine H1 receptor antagonist' = \"#AD1FA6\",  # Purple/magenta\n",
    "    'Na+/K+ pump inhibitor' = \"#D03294\",  # Pink/magenta\n",
    "\n",
    "    'Control' = \"#444444\"  # Gray\n",
    ")\n",
    "    "
   ]
  },
  {
   "cell_type": "code",
   "execution_count": null,
   "id": "c7e45fa5",
   "metadata": {
    "vscode": {
     "languageId": "r"
    }
   },
   "outputs": [],
   "source": [
    "parser <- ArgumentParser(description = \"Consensus Profiles Analysis\")\n",
    "parser$add_argument(\"--patient\", type = \"character\", required = TRUE, help = \"Input file path\")\n",
    "args <- parser$parse_args()\n",
    "patient_id <- args$patient"
   ]
  },
  {
   "cell_type": "code",
   "execution_count": 4,
   "id": "0bf43cbb",
   "metadata": {
    "vscode": {
     "languageId": "r"
    }
   },
   "outputs": [
    {
     "name": "stdout",
     "output_type": "stream",
     "text": [
      "Git root directory: /home/lippincm/Documents/GFF_3D_organoid_profiling_pipeline \n"
     ]
    }
   ],
   "source": [
    "# Get the current working directory and find Git root\n",
    "find_git_root <- function() {\n",
    "    # Get current working directory\n",
    "    cwd <- getwd()\n",
    "    \n",
    "    # Check if current directory has .git\n",
    "    if (dir.exists(file.path(cwd, \".git\"))) {\n",
    "        return(cwd)\n",
    "    }\n",
    "    \n",
    "    # If not, search parent directories\n",
    "    current_path <- cwd\n",
    "    while (dirname(current_path) != current_path) {  # While not at root\n",
    "        parent_path <- dirname(current_path)\n",
    "        if (dir.exists(file.path(parent_path, \".git\"))) {\n",
    "            return(parent_path)\n",
    "        }\n",
    "        current_path <- parent_path\n",
    "    }\n",
    "    \n",
    "    # If no Git root found, stop with error\n",
    "    stop(\"No Git root directory found.\")\n",
    "}\n",
    "\n",
    "# Find the Git root directory\n",
    "root_dir <- find_git_root()\n",
    "cat(\"Git root directory:\", root_dir, \"\\n\")"
   ]
  },
  {
   "cell_type": "code",
   "execution_count": 5,
   "id": "5d1f14d8",
   "metadata": {
    "vscode": {
     "languageId": "r"
    }
   },
   "outputs": [],
   "source": [
    "sc_consensus_df <- arrow::read_parquet(file.path(root_dir,\"data\",patient_id,\"image_based_profiles/5.aggregated_profiles/sc_consensus.parquet\"))\n",
    "# drop the therapeutic category column\n",
    "sc_consensus_df <- sc_consensus_df %>%\n",
    "  select(-`Therapeutic_Categories`)\n",
    "\n",
    "\n",
    "organoid_consensus_df <- arrow::read_parquet(file.path(root_dir,\"data\",patient_id,\"image_based_profiles/5.aggregated_profiles/organoid_consensus.parquet\"))\n",
    "# drop the therapeutic category column\n",
    "organoid_consensus_df <- organoid_consensus_df %>%\n",
    "  select(-`Therapeutic_Categories`)\n",
    "\n",
    "\n",
    "sc_consensus_heatmap_file_path <- file.path(\n",
    "    root_dir,\n",
    "    paste0(\"5.EDA/figures/consensus_heatmaps/\",patient_id, \"_sc_consensus_heatmap.png\")\n",
    ")\n",
    "organoid_consensus_heatmap_file_path <- file.path(\n",
    "    root_dir,\n",
    "    paste0(\"5.EDA/figures/consensus_heatmaps/\", patient_id, \"_organoid_consensus_heatmap.png\")\n",
    ")\n",
    "\n",
    "if (!dir.exists(file.path(root_dir,paste0(\"5.EDA/figures/consensus_heatmaps/\")))) {\n",
    "    dir.create(file.path(root_dir,paste0(\"5.EDA/figures/consensus_heatmaps/\")), recursive = TRUE)\n",
    "}"
   ]
  },
  {
   "cell_type": "markdown",
   "id": "26b81744",
   "metadata": {},
   "source": [
    "## Single-cell heatmap of consensus profiles"
   ]
  },
  {
   "cell_type": "code",
   "execution_count": 7,
   "id": "926ca3e6",
   "metadata": {
    "vscode": {
     "languageId": "r"
    }
   },
   "outputs": [],
   "source": [
    "# drop columns that contain neighbors\n",
    "sc_consensus_df <- sc_consensus_df %>%\n",
    "  select(-contains(\"Neighbors\"))\n"
   ]
  },
  {
   "cell_type": "code",
   "execution_count": 8,
   "id": "3f9134ac",
   "metadata": {
    "vscode": {
     "languageId": "r"
    }
   },
   "outputs": [],
   "source": [
    "column_anno <- HeatmapAnnotation(\n",
    "    Target = sc_consensus_df$Target,\n",
    "    show_legend = TRUE,\n",
    "    annotation_name_gp = gpar(fontsize = 16),\n",
    "    annotation_legend_param = list(\n",
    "        title_position = \"topcenter\", \n",
    "        title_gp = gpar(fontsize = 16, angle = 0, fontface = \"bold\", hjust = 1.0),\n",
    "        labels_gp = gpar(fontsize = 16, \n",
    "        title = gpar(fontsize = 16))),\n",
    "    col = list(\n",
    "            Target = custom_MOA_palette\n",
    "        )\n",
    ")"
   ]
  },
  {
   "cell_type": "code",
   "execution_count": 9,
   "id": "21482d30",
   "metadata": {
    "vscode": {
     "languageId": "r"
    }
   },
   "outputs": [],
   "source": [
    "# get the list of features\n",
    "features <- colnames(sc_consensus_df)\n",
    "features <- features[!features %in% c(\"treatment\", \"Target\", \"Class\", \"single_cell_count\")]\n",
    "features <- as.data.frame(features)\n",
    "rownames(features) <- features$features\n",
    "# split the features by _ into multiple columns\n",
    "features <- features %>% \n",
    "    separate(features, into = c(\"Feature Type\", \"Compartment\", \"Channel\", \"Measurement\"), sep = \"_\", extra = \"merge\", fill = \"right\")\n",
    "# if Feature type is AreaSizeShape then shift the Channel to the Measurement column and set Channel to NA\n",
    "features <- features %>%\n",
    "    mutate(\n",
    "        Measurement = ifelse(`Feature Type` == \"Area.Size.Shape\", Channel, Measurement)\n",
    "    )\n",
    "features <- features %>%\n",
    "    mutate(\n",
    "        Channel = ifelse(`Feature Type` == \"Area.Size.Shape\", \"None\", Channel)\n",
    "    )\n",
    "\n",
    "# select the first channel for colocalization features channels are split by .\n",
    "features <- features %>%\n",
    "    mutate(\n",
    "        Channel = ifelse(`Feature Type` == \"Colocalization\", \n",
    "                         sub(\"\\\\..*\", \"\", Channel), \n",
    "                         Channel)\n",
    "    )\n",
    "\n",
    "\n",
    "# sort by feature type\n",
    "features <- features %>%\n",
    "    arrange(`Feature Type`, Compartment, Channel, Measurement)"
   ]
  },
  {
   "cell_type": "code",
   "execution_count": 10,
   "id": "835f907f",
   "metadata": {
    "vscode": {
     "languageId": "r"
    }
   },
   "outputs": [],
   "source": [
    "# compartment row annotation\n",
    "row_compartment = rowAnnotation(\n",
    "    Object = features$Compartment,\n",
    "        show_legend = TRUE,\n",
    "    # change the legend titles\n",
    "    annotation_legend_param = list(\n",
    "        title_position = \"topcenter\", \n",
    "        title_gp = gpar(fontsize = 16, angle = 0, fontface = \"bold\", hjust = 1.0),\n",
    "        labels_gp = gpar(fontsize = 16, \n",
    "        title = gpar(fontsize = 16))),\n",
    "    annotation_name_side = \"bottom\",\n",
    "    annotation_name_gp = gpar(fontsize = 16),\n",
    "    # color\n",
    "    col = list(\n",
    "        Object = c(\n",
    "            \"Cell\" = \"#B000B0\", \n",
    "            \"Cytoplasm\" = \"#00D55B\", \n",
    "            \"Nuclei\" = \"#0000AB\"\n",
    "            # \"Organoid\" = \"#B09FB0\"\n",
    "            )\n",
    "    )\n",
    ")\n",
    "row_measurement = rowAnnotation(\n",
    "    FeatureType = features$`Feature Type`,\n",
    "           annotation_legend_param = list(\n",
    "        title_position = \"topcenter\", \n",
    "        title_gp = gpar(fontsize = 16, angle = 0, fontface = \"bold\", hjust = 0.5),\n",
    "        labels_gp = gpar(fontsize = 16, \n",
    "        title = gpar(fontsize = 16))),\n",
    "    annotation_name_side = \"bottom\",\n",
    "    annotation_name_gp = gpar(fontsize = 16),\n",
    "    col = list(\n",
    "            FeatureType = c(\n",
    "            \"Area.Size.Shape\" = brewer.pal(8, \"Paired\")[1],\n",
    "            \"Colocalization\" = brewer.pal(8, \"Paired\")[2],\n",
    "            \"Granularity\" = brewer.pal(8, \"Paired\")[3],\n",
    "            \"Intensity\" = brewer.pal(8, \"Paired\")[4],\n",
    "            \"Texture\" = brewer.pal(8, \"Paired\")[8]\n",
    "        )\n",
    "    ),\n",
    "    show_legend = TRUE\n",
    ")\n",
    "row_channel = rowAnnotation(\n",
    "    Channel = features$Channel,\n",
    "        annotation_legend_param = list(\n",
    "        title_position = \"topcenter\", \n",
    "        title_gp = gpar(fontsize = 16, angle = 0, fontface = \"bold\", hjust = 0.5),\n",
    "        labels_gp = gpar(fontsize = 16, \n",
    "        # make annotation bar text bigger\n",
    "        legend = gpar(fontsize = 16),\n",
    "        annotation_name = gpar(fontsize = 16),\n",
    "        # legend_height = unit(20, \"cm\"),\n",
    "        legend_width = unit(1, \"cm\"),\n",
    "        # make legend taller\n",
    "        # legend_height = unit(10, \"cm\"),\n",
    "        legend_width = unit(1, \"cm\"),\n",
    "        legend_key = gpar(fontsize = 16)\n",
    "        )\n",
    "    ),\n",
    "\n",
    "\n",
    "        \n",
    "    annotation_name_side = \"bottom\",\n",
    "    # make font size bigger\n",
    "    annotation_name_gp = gpar(fontsize = 16),\n",
    "    col = list(\n",
    "    Channel = c(\n",
    "            \"DNA\" = \"#0000AB\",\n",
    "            \"AGP\" = \"#b1001a\",\n",
    "            \"Mito\" = \"#B000B0\",\n",
    "            \"ER\" = \"#00D55B\",\n",
    "            \"BF\" = \"#FFFF00\",\n",
    "            \"None\" = \"#B09FB0\")\n",
    "    )\n",
    ")\n",
    "row_annotations = c(row_compartment, row_measurement, row_channel)"
   ]
  },
  {
   "cell_type": "code",
   "execution_count": 11,
   "id": "841998b8",
   "metadata": {
    "vscode": {
     "languageId": "r"
    }
   },
   "outputs": [],
   "source": [
    "mat <- sc_consensus_df %>%\n",
    "  select(-treatment, -Class, -Target) %>% \n",
    "  \n",
    "  as.matrix()\n",
    "mat <- t(mat)\n",
    "colnames(mat) <- sc_consensus_df$treatment"
   ]
  },
  {
   "cell_type": "code",
   "execution_count": 12,
   "id": "655fb184",
   "metadata": {
    "vscode": {
     "languageId": "r"
    }
   },
   "outputs": [
    {
     "data": {
      "text/html": [
       "<strong>png:</strong> 2"
      ],
      "text/latex": [
       "\\textbf{png:} 2"
      ],
      "text/markdown": [
       "**png:** 2"
      ],
      "text/plain": [
       "png \n",
       "  2 "
      ]
     },
     "metadata": {},
     "output_type": "display_data"
    }
   ],
   "source": [
    "width <- 10\n",
    "height <- 10\n",
    "options(repr.plot.width = width, repr.plot.height = height)\n",
    "heatmap_plot <- Heatmap(\n",
    "        mat, \n",
    "        # col = col_fun,\n",
    "        show_row_names = FALSE,\n",
    "        # cluster_columns = FALSE,\n",
    "        show_column_names = TRUE,\n",
    "\n",
    "        column_names_gp = gpar(fontsize = 16), # Column name label formatting\n",
    "        row_names_gp = gpar(fontsize = 14), \n",
    "\n",
    "        # show_heatmap_legend = FALSE,\n",
    "        heatmap_legend_param = list(\n",
    "                    title = \"Norm\\nValue\",\n",
    "                    title_position = \"topcenter\", \n",
    "                    title_gp = gpar(fontsize = 16, angle = 0, fontface = \"bold\", hjust = 1.0),\n",
    "                    labels_gp = gpar(fontsize = 16),\n",
    "                    # legend_height = unit(2, \"cm\"),\n",
    "                    legend_width = unit(3, \"cm\"),\n",
    "                    annotation_legend_side = \"bottom\"\n",
    "                    ), \n",
    "        \n",
    "        # row_dend_width = unit(2, \"cm\"),\n",
    "        # column_title = paste0(\"Dose: \", dose,\" uM\"),\n",
    "        right_annotation = row_annotations,\n",
    "        top_annotation = column_anno,\n",
    "        column_title = paste0(\"Single-cell heatmap of consensus profiles for:\\npatient \", patient_id),\n",
    "        # adjust the title position and size\n",
    "        column_title_gp = gpar(fontsize = 16, fontface = \"bold\", hjust = 0.5),\n",
    "    \n",
    "    )\n",
    "png(sc_consensus_heatmap_file_path, width = width, height = height, units = \"in\", res = 300)\n",
    "# save as a PNG\n",
    "draw(heatmap_plot, merge_legend = TRUE, heatmap_legend_side = \"right\")\n",
    "dev.off()"
   ]
  },
  {
   "cell_type": "markdown",
   "id": "d28a9d8e",
   "metadata": {},
   "source": [
    "## Organoid heatmap of consensus profiles"
   ]
  },
  {
   "cell_type": "code",
   "execution_count": 13,
   "id": "eb25596b",
   "metadata": {
    "vscode": {
     "languageId": "r"
    }
   },
   "outputs": [],
   "source": [
    "# drop columns that contain neighbors\n",
    "organoid_consensus_df <- organoid_consensus_df %>%\n",
    "  select(-contains(\"Neighbors\"))\n"
   ]
  },
  {
   "cell_type": "code",
   "execution_count": 14,
   "id": "4fe8ed78",
   "metadata": {
    "vscode": {
     "languageId": "r"
    }
   },
   "outputs": [],
   "source": [
    "column_anno <- HeatmapAnnotation(\n",
    "    Target = organoid_consensus_df$Target,\n",
    "    show_legend = TRUE,\n",
    "    annotation_name_gp = gpar(fontsize = 16),\n",
    "    annotation_legend_param = list(\n",
    "        title_position = \"topcenter\", \n",
    "        title_gp = gpar(fontsize = 16, angle = 0, fontface = \"bold\", hjust = 1.0),\n",
    "        labels_gp = gpar(fontsize = 16, \n",
    "        title = gpar(fontsize = 16))),\n",
    "        col = list(\n",
    "            Target = custom_MOA_palette\n",
    "        )\n",
    "        \n",
    "\n",
    ")"
   ]
  },
  {
   "cell_type": "code",
   "execution_count": 15,
   "id": "ca1456c6",
   "metadata": {
    "vscode": {
     "languageId": "r"
    }
   },
   "outputs": [],
   "source": [
    "# get the list of features\n",
    "features <- colnames(organoid_consensus_df)\n",
    "features <- features[!features %in% c(\"treatment\", \"Target\", \"Class\", \"single_cell_count\")]\n",
    "features <- as.data.frame(features)\n",
    "rownames(features) <- features$features\n",
    "# split the features by _ into multiple columns\n",
    "features <- features %>% \n",
    "    separate(features, into = c(\"Feature Type\", \"Compartment\", \"Channel\", \"Measurement\"), sep = \"_\", extra = \"merge\", fill = \"right\")\n",
    "# if Feature type is AreaSizeShape then shift the Channel to the Measurement column and set Channel to NA\n",
    "features <- features %>%\n",
    "    mutate(\n",
    "        Measurement = ifelse(`Feature Type` == \"Area.Size.Shape\", Channel, Measurement)\n",
    "    )\n",
    "features <- features %>%\n",
    "    mutate(\n",
    "        Channel = ifelse(`Feature Type` == \"Area.Size.Shape\", \"None\", Channel)\n",
    "    )\n",
    "\n",
    "# select the first channel for colocalization features channels are split by .\n",
    "features <- features %>%\n",
    "    mutate(\n",
    "        Channel = ifelse(`Feature Type` == \"Colocalization\", \n",
    "                         sub(\"\\\\..*\", \"\", Channel), \n",
    "                         Channel)\n",
    "    )\n",
    "# sort by feature type\n",
    "features <- features %>%\n",
    "    arrange(`Feature Type`, Compartment, Channel, Measurement)"
   ]
  },
  {
   "cell_type": "code",
   "execution_count": 16,
   "id": "b4c1f06a",
   "metadata": {
    "vscode": {
     "languageId": "r"
    }
   },
   "outputs": [],
   "source": [
    "\n",
    "row_measurement = rowAnnotation(\n",
    "    FeatureType = features$`Feature Type`,\n",
    "           annotation_legend_param = list(\n",
    "        title_position = \"topcenter\", \n",
    "        title_gp = gpar(fontsize = 16, angle = 0, fontface = \"bold\", hjust = 0.5),\n",
    "        labels_gp = gpar(fontsize = 16, \n",
    "        title = gpar(fontsize = 16))),\n",
    "    annotation_name_side = \"bottom\",\n",
    "    annotation_name_gp = gpar(fontsize = 16),\n",
    "    col = list(\n",
    "            FeatureType = c(\n",
    "            \"Area.Size.Shape\" = brewer.pal(8, \"Paired\")[1],\n",
    "            \"Colocalization\" = brewer.pal(8, \"Paired\")[2],\n",
    "            \"Granularity\" = brewer.pal(8, \"Paired\")[3],\n",
    "            \"Intensity\" = brewer.pal(8, \"Paired\")[4],\n",
    "            \"Texture\" = brewer.pal(8, \"Paired\")[8]\n",
    "        )\n",
    "    ),\n",
    "    show_legend = TRUE\n",
    ")\n",
    "row_channel = rowAnnotation(\n",
    "    Channel = features$Channel,\n",
    "        annotation_legend_param = list(\n",
    "        title_position = \"topcenter\", \n",
    "        title_gp = gpar(fontsize = 16, angle = 0, fontface = \"bold\", hjust = 0.5),\n",
    "        labels_gp = gpar(fontsize = 16, \n",
    "        # make annotation bar text bigger\n",
    "        legend = gpar(fontsize = 16),\n",
    "        annotation_name = gpar(fontsize = 16),\n",
    "        legend_height = unit(20, \"cm\"),\n",
    "        legend_width = unit(1, \"cm\"),\n",
    "        # make legend taller\n",
    "        legend_height = unit(10, \"cm\"),\n",
    "        legend_width = unit(1, \"cm\"),\n",
    "        legend_key = gpar(fontsize = 16)\n",
    "        )\n",
    "    ),\n",
    "\n",
    "\n",
    "        \n",
    "    annotation_name_side = \"bottom\",\n",
    "    # make font size bigger\n",
    "    annotation_name_gp = gpar(fontsize = 16),\n",
    "    col = list(\n",
    "    Channel = c(\n",
    "            \"DNA\" = \"#0000AB\",\n",
    "            \"AGP\" = \"#b1001a\",\n",
    "            \"Mito\" = \"#B000B0\",\n",
    "            \"ER\" = \"#00D55B\",\n",
    "            \"BF\" = \"#FFFF00\",\n",
    "            \"None\" = \"#B09FB0\")\n",
    "    )\n",
    ")\n",
    "row_annotations = c(row_measurement, row_channel)"
   ]
  },
  {
   "cell_type": "code",
   "execution_count": 17,
   "id": "f77eb7f7",
   "metadata": {
    "vscode": {
     "languageId": "r"
    }
   },
   "outputs": [],
   "source": [
    "mat <- organoid_consensus_df %>%\n",
    "  select(-treatment, -Class, -Target,-single_cell_count) %>% \n",
    "  \n",
    "  as.matrix()\n",
    "mat <- t(mat)\n",
    "colnames(mat) <- organoid_consensus_df$treatment"
   ]
  },
  {
   "cell_type": "code",
   "execution_count": 18,
   "id": "d407d17b",
   "metadata": {
    "vscode": {
     "languageId": "r"
    }
   },
   "outputs": [
    {
     "name": "stderr",
     "output_type": "stream",
     "text": [
      "The automatically generated colors map from the minus and plus 99^th of\n",
      "the absolute values in the matrix. There are outliers in the matrix\n",
      "whose patterns might be hidden by this color mapping. You can manually\n",
      "set the color to `col` argument.\n",
      "\n",
      "Use `suppressMessages()` to turn off this message.\n",
      "\n"
     ]
    },
    {
     "data": {
      "text/html": [
       "<strong>png:</strong> 2"
      ],
      "text/latex": [
       "\\textbf{png:} 2"
      ],
      "text/markdown": [
       "**png:** 2"
      ],
      "text/plain": [
       "png \n",
       "  2 "
      ]
     },
     "metadata": {},
     "output_type": "display_data"
    }
   ],
   "source": [
    "width <- 10\n",
    "height <- 10\n",
    "options(repr.plot.width = width, repr.plot.height = height)\n",
    "heatmap_plot <- Heatmap(\n",
    "        mat, \n",
    "        # col = col_fun,\n",
    "        show_row_names = FALSE,\n",
    "        # cluster_columns = FALSE,\n",
    "        show_column_names = TRUE,\n",
    "\n",
    "        column_names_gp = gpar(fontsize = 16), # Column name label formatting\n",
    "        row_names_gp = gpar(fontsize = 14), \n",
    "\n",
    "        # show_heatmap_legend = FALSE,\n",
    "        heatmap_legend_param = list(\n",
    "                    title = \"Norm\\nValue\",\n",
    "                    title_position = \"topcenter\", \n",
    "                    title_gp = gpar(fontsize = 16, angle = 0, fontface = \"bold\", hjust = 1.0),\n",
    "                    labels_gp = gpar(fontsize = 16),\n",
    "                    # legend_height = unit(2, \"cm\"),\n",
    "                    legend_width = unit(3, \"cm\"),\n",
    "                    annotation_legend_side = \"bottom\"\n",
    "                    ), \n",
    "        \n",
    "        # row_dend_width = unit(2, \"cm\"),\n",
    "        # column_title = paste0(\"Dose: \", dose,\" uM\"),\n",
    "        right_annotation = row_annotations,\n",
    "        top_annotation = column_anno,\n",
    "        column_title = paste0(\"Organoid heatmap of consensus profiles for:\\npatient \", patient_id),\n",
    "        # adjust the title position and size\n",
    "        column_title_gp = gpar(fontsize = 16, fontface = \"bold\", hjust = 0.5),\n",
    "    \n",
    "    )\n",
    "\n",
    "png(organoid_consensus_heatmap_file_path, width = width, height = height, units = \"in\", res = 300)\n",
    "draw(heatmap_plot, merge_legend = TRUE, heatmap_legend_side = \"right\")\n",
    "dev.off()"
   ]
  }
 ],
 "metadata": {
  "kernelspec": {
   "display_name": "R",
   "language": "R",
   "name": "ir"
  },
  "language_info": {
   "codemirror_mode": "r",
   "file_extension": ".r",
   "mimetype": "text/x-r-source",
   "name": "R",
   "pygments_lexer": "r",
   "version": "4.2.2"
  }
 },
 "nbformat": 4,
 "nbformat_minor": 5
}
